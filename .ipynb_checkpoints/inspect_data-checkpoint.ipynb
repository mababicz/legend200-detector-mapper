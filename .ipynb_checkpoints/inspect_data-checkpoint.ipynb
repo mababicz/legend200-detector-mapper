{
 "cells": [
  {
   "cell_type": "code",
   "execution_count": 1,
   "id": "79c04fac-6b78-4fce-a28b-7cb0befa655e",
   "metadata": {
    "tags": []
   },
   "outputs": [
    {
     "ename": "ModuleNotFoundError",
     "evalue": "No module named 'legend200_data_loader'",
     "output_type": "error",
     "traceback": [
      "\u001b[0;31m---------------------------------------------------------------------------\u001b[0m",
      "\u001b[0;31mModuleNotFoundError\u001b[0m                       Traceback (most recent call last)",
      "Cell \u001b[0;32mIn[1], line 3\u001b[0m\n\u001b[1;32m      1\u001b[0m \u001b[38;5;66;03m# Example in Jupyter Notebook\u001b[39;00m\n\u001b[0;32m----> 3\u001b[0m \u001b[38;5;28;01mfrom\u001b[39;00m \u001b[38;5;21;01mlegend200_data_loader\u001b[39;00m\u001b[38;5;21;01m.\u001b[39;00m\u001b[38;5;21;01mloader\u001b[39;00m \u001b[38;5;28;01mimport\u001b[39;00m LegendDataLoader\n\u001b[1;32m      4\u001b[0m \u001b[38;5;28;01mfrom\u001b[39;00m \u001b[38;5;21;01mlegend200_data_loader\u001b[39;00m\u001b[38;5;21;01m.\u001b[39;00m\u001b[38;5;21;01mmetadata\u001b[39;00m \u001b[38;5;28;01mimport\u001b[39;00m MetadataLoader\n",
      "\u001b[0;31mModuleNotFoundError\u001b[0m: No module named 'legend200_data_loader'"
     ]
    }
   ],
   "source": [
    "# Example in Jupyter Notebook\n",
    "\n",
    "from legend200_data_loader.loader import LegendDataLoader\n",
    "from legend200_data_loader.metadata import MetadataLoader"
   ]
  },
  {
   "cell_type": "code",
   "execution_count": null,
   "id": "989977c6-1fad-4976-adc1-2e119b849904",
   "metadata": {},
   "outputs": [],
   "source": [
    "# Load Metadata\n",
    "metadata = MetadataLoader(ssh_auth_sock=\"your_ssh_auth_sock\")\n",
    "channel_id = metadata.get_channel_id(\"V05261B\")"
   ]
  },
  {
   "cell_type": "code",
   "execution_count": null,
   "id": "cc3d059f-1dba-4cce-8f00-e9b0d75a4c33",
   "metadata": {},
   "outputs": [],
   "source": [
    "# Load Data\n",
    "loader = LegendDataLoader([\"path/to/pet_data.h5\"])\n",
    "data = loader.load_tier_data(channel_id)"
   ]
  },
  {
   "cell_type": "code",
   "execution_count": null,
   "id": "698def45-28da-4f2f-a428-7b2b60aa0977",
   "metadata": {},
   "outputs": [],
   "source": [
    "# Inspect the data\n",
    "data.head()"
   ]
  }
 ],
 "metadata": {
  "kernelspec": {
   "display_name": "NERSC Python",
   "language": "python",
   "name": "python3"
  },
  "language_info": {
   "codemirror_mode": {
    "name": "ipython",
    "version": 3
   },
   "file_extension": ".py",
   "mimetype": "text/x-python",
   "name": "python",
   "nbconvert_exporter": "python",
   "pygments_lexer": "ipython3",
   "version": "3.11.7"
  }
 },
 "nbformat": 4,
 "nbformat_minor": 5
}
