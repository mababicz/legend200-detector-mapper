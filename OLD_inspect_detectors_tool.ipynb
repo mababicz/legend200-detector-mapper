{
 "cells": [
  {
   "cell_type": "code",
   "execution_count": 3,
   "id": "0711652d-68d5-4be3-a749-67e9b8b091ea",
   "metadata": {},
   "outputs": [
    {
     "name": "stdout",
     "output_type": "stream",
     "text": [
      "Found 101 HPGE detectors.\n"
     ]
    },
    {
     "data": {
      "application/vnd.jupyter.widget-view+json": {
       "model_id": "a2a999f56de8497e8bc76ea876752697",
       "version_major": 2,
       "version_minor": 0
      },
      "text/plain": [
       "Dropdown(description='Period:', options=('p08/', 'p09/', 'p11/'), value='p08/')"
      ]
     },
     "metadata": {},
     "output_type": "display_data"
    },
    {
     "data": {
      "application/vnd.jupyter.widget-view+json": {
       "model_id": "65fecb7a8b964f6a91365b860688b0c1",
       "version_major": 2,
       "version_minor": 0
      },
      "text/plain": [
       "Dropdown(description='Run:', options=(), value=None)"
      ]
     },
     "metadata": {},
     "output_type": "display_data"
    },
    {
     "data": {
      "application/vnd.jupyter.widget-view+json": {
       "model_id": "d968bbbc670a4c7783039ecb14c0691a",
       "version_major": 2,
       "version_minor": 0
      },
      "text/plain": [
       "Checkbox(value=True, description='Show Active Detectors (on)')"
      ]
     },
     "metadata": {},
     "output_type": "display_data"
    },
    {
     "data": {
      "application/vnd.jupyter.widget-view+json": {
       "model_id": "3ea9bd0eae5c4b1c99598c468a9c6d05",
       "version_major": 2,
       "version_minor": 0
      },
      "text/plain": [
       "Checkbox(value=True, description='Show AC Detectors (ac)')"
      ]
     },
     "metadata": {},
     "output_type": "display_data"
    },
    {
     "data": {
      "application/vnd.jupyter.widget-view+json": {
       "model_id": "7e256402fa0944c0a615215a8630c753",
       "version_major": 2,
       "version_minor": 0
      },
      "text/plain": [
       "Checkbox(value=False, description='Show Off Detectors (off)')"
      ]
     },
     "metadata": {},
     "output_type": "display_data"
    },
    {
     "data": {
      "application/vnd.jupyter.widget-view+json": {
       "model_id": "e57b41f256174631b6a82bf24d1ff8f7",
       "version_major": 2,
       "version_minor": 0
      },
      "text/plain": [
       "Checkbox(value=False, description='Save Plot')"
      ]
     },
     "metadata": {},
     "output_type": "display_data"
    },
    {
     "data": {
      "application/vnd.jupyter.widget-view+json": {
       "model_id": "421594c077e54607973af6f00f2dbe29",
       "version_major": 2,
       "version_minor": 0
      },
      "text/plain": [
       "Text(value='/global/u2/m/mababicz/l200-detector-mapper/detector_plot.png', description='Save Path:', placehold…"
      ]
     },
     "metadata": {},
     "output_type": "display_data"
    },
    {
     "data": {
      "application/vnd.jupyter.widget-view+json": {
       "model_id": "8f6232b8d2a8429c9c736aa2473552f6",
       "version_major": 2,
       "version_minor": 0
      },
      "text/plain": [
       "interactive(children=(Dropdown(description='Period:', options=('p08/', 'p09/', 'p11/'), value='p08/'), Dropdow…"
      ]
     },
     "metadata": {},
     "output_type": "display_data"
    },
    {
     "data": {
      "text/plain": [
       "<function __main__.update_plot(period, run, active, ac, off, save_plot, save_path)>"
      ]
     },
     "execution_count": 3,
     "metadata": {},
     "output_type": "execute_result"
    }
   ],
   "source": [
    "import datetime as dt\n",
    "import awkward as ak\n",
    "import pandas as pd\n",
    "import pickle\n",
    "import glob\n",
    "import re\n",
    "import h5py\n",
    "import os\n",
    "\n",
    "from legend200_data_loader.loader import LegendDataLoader\n",
    "from legend200_data_loader.preprocessing import plot_detector_positions\n",
    "from legend200_data_loader.function import filter_metadata\n",
    "from legendmeta import LegendMetadata\n",
    "from ipywidgets import interact, widgets\n",
    "from IPython.display import display\n",
    "\n",
    "#Set up SSH agent for authentication\n",
    "os.environ[\"SSH_AUTH_SOCK\"] = \"/tmp/ssh-XXXXXX1U2ma8/agent.2354076\"\n",
    "\n",
    "#Load metadata\n",
    "lmeta = LegendMetadata()\n",
    "\n",
    "#Step 1: Metadata Filtering\n",
    "detector_type = 'geds'  # Example: detector type to filter\n",
    "detectors = filter_metadata(lmeta)\n",
    "if not detectors:\n",
    "    print(f\"No detectors found for type: {detector_type}\")\n",
    "else:\n",
    "    detector_entries = {key: value for key, value in detectors.items() if key != 'rawid_lists'}\n",
    "    print(f\"Found {len(detector_entries)} HPGE detectors.\")\n",
    "\n",
    "#Load data loader\n",
    "data_loader = LegendDataLoader()\n",
    "\n",
    "#Widget for selecting period\n",
    "available_periods = ['p08/', 'p09/', 'p11/']  # Example list; replace with actual periods\n",
    "period_dropdown = widgets.Dropdown(\n",
    "    options=available_periods,\n",
    "    value=available_periods[0],\n",
    "    description='Period:'\n",
    ")\n",
    "\n",
    "#Widget for selecting run\n",
    "run_dropdown = widgets.Dropdown(\n",
    "    options=[],  # Updated dynamically based on period\n",
    "    description='Run:'\n",
    ")\n",
    "\n",
    "#Filter options for detector usability\n",
    "show_active = widgets.Checkbox(value=True, description='Show Active Detectors (on)')\n",
    "show_ac = widgets.Checkbox(value=True, description='Show AC Detectors (ac)')\n",
    "show_off = widgets.Checkbox(value=False, description='Show Off Detectors (off)')\n",
    "\n",
    "#Display widgets\n",
    "display(period_dropdown, run_dropdown, show_active, show_ac, show_off)\n",
    "\n",
    "#Update runs based on the selected period\n",
    "def update_runs(period):\n",
    "    runs = data_loader.get_runs(period)\n",
    "    run_dropdown.options = runs\n",
    "    if runs:\n",
    "        run_dropdown.value = runs[0]\n",
    "\n",
    "#Update runs dropdown when period changes\n",
    "period_dropdown.observe(lambda change: update_runs(change.new), names='value')\n",
    "update_runs(period_dropdown.value)\n",
    "\n",
    "save_plot_checkbox = widgets.Checkbox(value=False, description='Save Plot')\n",
    "save_path_text = widgets.Text(\n",
    "    value='/global/u2/m/mababicz/l200-detector-mapper/detector_plot.png',\n",
    "    placeholder='Enter save path',\n",
    "    description='Save Path:'\n",
    ")\n",
    "\n",
    "# Display the widgets for saving options\n",
    "display(save_plot_checkbox, save_path_text)\n",
    "\n",
    "#Function to update and plot detector positions\n",
    "def update_plot(period, run, active, ac, off, save_plot, save_path):\n",
    "    # Load files for selected period and run\n",
    "    file_dict = data_loader.load_files(period, run)\n",
    "    tier_to_check = 'raw_files'\n",
    "    \n",
    "    #Extract timestamps\n",
    "    timestamps = []\n",
    "    for file_path in file_dict.get(tier_to_check, []):\n",
    "        filename = os.path.basename(file_path)\n",
    "        match = re.search(r'\\d{8}T\\d{6}Z', filename)\n",
    "        if match:\n",
    "            timestamps.append(match.group())\n",
    "    \n",
    "    if not timestamps:\n",
    "        print(f\"No valid timestamps found in {tier_to_check} files.\")\n",
    "        return\n",
    "    \n",
    "    timestamp = timestamps[0]\n",
    "    channel_map = lmeta.channelmap(timestamp)\n",
    "    usable_detectors, ac_detectors, off_detectors = [], [], []\n",
    "    \n",
    "    for det_id in detectors:\n",
    "        detector_info = channel_map.get(det_id, {})\n",
    "        analysis_info = detector_info.get('analysis', {})\n",
    "        usability = analysis_info.get('usability', 'unknown')\n",
    "        \n",
    "        if usability == 'on' and active:\n",
    "            usable_detectors.append(det_id)\n",
    "        elif usability == 'ac' and ac:\n",
    "            ac_detectors.append(det_id)\n",
    "        elif usability == 'off' and off:\n",
    "            off_detectors.append(det_id)\n",
    "    \n",
    "    #Plot filtered detectors\n",
    "    save_path_actual = save_path if save_plot else None\n",
    "    plot_detector_positions(\n",
    "        usable_detectors, \n",
    "        lmeta, \n",
    "        period, \n",
    "        run, \n",
    "        ac_detectors=ac_detectors, \n",
    "        off_detectors=off_detectors,\n",
    "        #save_path=save_path_actual\n",
    "    )\n",
    "    if save_plot:\n",
    "        print(f\"Plot saved to {save_path}\")\n",
    "\n",
    "#Link widgets to the plot function\n",
    "interact(\n",
    "    update_plot,\n",
    "    period=period_dropdown,\n",
    "    run=run_dropdown,\n",
    "    active=show_active,\n",
    "    ac=show_ac,\n",
    "    off=show_off,\n",
    "    save_plot=save_plot_checkbox,\n",
    "    save_path=save_path_text\n",
    ")\n"
   ]
  },
  {
   "cell_type": "code",
   "execution_count": 4,
   "id": "bf4db668-5691-4532-95d6-b0669dd06f3f",
   "metadata": {},
   "outputs": [
    {
     "name": "stdout",
     "output_type": "stream",
     "text": [
      "legend200_data_loader.preprocessing\n"
     ]
    }
   ],
   "source": [
    "print(plot_detector_positions.__module__)\n"
   ]
  },
  {
   "cell_type": "code",
   "execution_count": null,
   "id": "a256b006-0953-41a1-b7f0-78e0ea681d4d",
   "metadata": {},
   "outputs": [],
   "source": []
  }
 ],
 "metadata": {
  "kernelspec": {
   "display_name": "NERSC Python",
   "language": "python",
   "name": "python3"
  },
  "language_info": {
   "codemirror_mode": {
    "name": "ipython",
    "version": 3
   },
   "file_extension": ".py",
   "mimetype": "text/x-python",
   "name": "python",
   "nbconvert_exporter": "python",
   "pygments_lexer": "ipython3",
   "version": "3.11.7"
  }
 },
 "nbformat": 4,
 "nbformat_minor": 5
}
