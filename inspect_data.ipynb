{
 "cells": [
  {
   "cell_type": "code",
   "execution_count": 8,
   "id": "79c04fac-6b78-4fce-a28b-7cb0befa655e",
   "metadata": {
    "tags": []
   },
   "outputs": [],
   "source": [
    "# Example in Jupyter Notebook\n",
    "from legend200_data_loader.loader import LegendDataLoader\n",
    "from legend200_data_loader.metadata import MetadataLoader"
   ]
  },
  {
   "cell_type": "code",
   "execution_count": 9,
   "id": "14637420-b608-49ca-9ff5-abb1a4a92236",
   "metadata": {
    "tags": []
   },
   "outputs": [
    {
     "ename": "TypeError",
     "evalue": "LegendDataLoader.__init__() missing 1 required positional argument: 'lh5_files'",
     "output_type": "error",
     "traceback": [
      "\u001b[0;31m---------------------------------------------------------------------------\u001b[0m",
      "\u001b[0;31mTypeError\u001b[0m                                 Traceback (most recent call last)",
      "Cell \u001b[0;32mIn[9], line 2\u001b[0m\n\u001b[1;32m      1\u001b[0m \u001b[38;5;66;03m# Initialize the data loader\u001b[39;00m\n\u001b[0;32m----> 2\u001b[0m data_loader \u001b[38;5;241m=\u001b[39m \u001b[43mLegendDataLoader\u001b[49m\u001b[43m(\u001b[49m\u001b[43m)\u001b[49m\n\u001b[1;32m      3\u001b[0m raw_data \u001b[38;5;241m=\u001b[39m data_loader\u001b[38;5;241m.\u001b[39mload_raw_data()  \u001b[38;5;66;03m# Load raw data\u001b[39;00m\n\u001b[1;32m      5\u001b[0m \u001b[38;5;66;03m# Initialize the metadata loader with SSH agent\u001b[39;00m\n",
      "\u001b[0;31mTypeError\u001b[0m: LegendDataLoader.__init__() missing 1 required positional argument: 'lh5_files'"
     ]
    }
   ],
   "source": [
    "# Initialize the data loader\n",
    "data_loader = LegendDataLoader()\n",
    "raw_data = data_loader.load_raw_data()  # Load raw data\n",
    "\n",
    "# Initialize the metadata loader with SSH agent\n",
    "ssh_auth_sock = \"/tmp/ssh-VnTKAVVhgRJf/agent.1685893\"\n",
    "metadata_loader = MetadataLoader(ssh_auth_sock)\n",
    "channel_id = metadata_loader.get_channel_id('V05261B')\n",
    "print(f\"Channel ID: {channel_id}\")\n"
   ]
  },
  {
   "cell_type": "markdown",
   "id": "8ad7584e-e1a8-454c-8707-423c4e3253aa",
   "metadata": {},
   "source": [
    "## Step 1: Load Metadata\n",
    "\n",
    "In the notebook, you first set up the SSH agent for accessing the metadata:"
   ]
  },
  {
   "cell_type": "markdown",
   "id": "1e195f24-3952-4099-9ac4-b4fb7ff776de",
   "metadata": {},
   "source": [
    "Here, the MetadataLoader class retrieves the metadata, and get_channel_id() retrieves the specific channel_id for detector V05261B. This is necessary for loading the relevant data from the HDF5 files."
   ]
  },
  {
   "cell_type": "code",
   "execution_count": 6,
   "id": "989977c6-1fad-4976-adc1-2e119b849904",
   "metadata": {
    "tags": []
   },
   "outputs": [
    {
     "name": "stdout",
     "output_type": "stream",
     "text": [
      "Channel ID: 1104002\n"
     ]
    }
   ],
   "source": [
    "import os\n",
    "from legendmeta import LegendMetadata\n",
    "\n",
    "# Use SSH agent for authentication\n",
    "os.environ[\"SSH_AUTH_SOCK\"] = \"/tmp/ssh-VnTKAVVhgRJf/agent.1685893\"\n",
    "\n",
    "# Now load the metadata\n",
    "lmeta = LegendMetadata()\n",
    "\n",
    "# Example: Access channel map\n",
    "channel_id = lmeta.channelmap()['V05261B']['daq']['rawid']\n",
    "print(f\"Channel ID: {channel_id}\")\n"
   ]
  },
  {
   "cell_type": "markdown",
   "id": "802dcd9d-6176-43f9-bfb7-0de670d5a20e",
   "metadata": {},
   "source": [
    "## Step 2: Load Data\n",
    "\n",
    "Now that you have the channel_id, you can load the data from your HDF5 files using the LegendDataLoader class in loader.py."
   ]
  },
  {
   "cell_type": "code",
   "execution_count": 7,
   "id": "559ede14-4a1f-4da3-ae5f-ac2de7ba63c3",
   "metadata": {
    "tags": []
   },
   "outputs": [
    {
     "ename": "TypeError",
     "evalue": "LegendDataLoader.__init__() missing 1 required positional argument: 'lh5_files'",
     "output_type": "error",
     "traceback": [
      "\u001b[0;31m---------------------------------------------------------------------------\u001b[0m",
      "\u001b[0;31mTypeError\u001b[0m                                 Traceback (most recent call last)",
      "Cell \u001b[0;32mIn[7], line 4\u001b[0m\n\u001b[1;32m      1\u001b[0m \u001b[38;5;28;01mfrom\u001b[39;00m \u001b[38;5;21;01mlegend200_data_loader\u001b[39;00m\u001b[38;5;21;01m.\u001b[39;00m\u001b[38;5;21;01mloader\u001b[39;00m \u001b[38;5;28;01mimport\u001b[39;00m LegendDataLoader\n\u001b[1;32m      3\u001b[0m \u001b[38;5;66;03m# Create loader instance\u001b[39;00m\n\u001b[0;32m----> 4\u001b[0m loader \u001b[38;5;241m=\u001b[39m \u001b[43mLegendDataLoader\u001b[49m\u001b[43m(\u001b[49m\u001b[43m)\u001b[49m\n\u001b[1;32m      6\u001b[0m \u001b[38;5;66;03m# Example: Load raw data\u001b[39;00m\n\u001b[1;32m      7\u001b[0m loader\u001b[38;5;241m.\u001b[39mload_raw_data()\n",
      "\u001b[0;31mTypeError\u001b[0m: LegendDataLoader.__init__() missing 1 required positional argument: 'lh5_files'"
     ]
    }
   ],
   "source": [
    "from legend200_data_loader.loader import LegendDataLoader\n",
    "\n",
    "# Create loader instance\n",
    "loader = LegendDataLoader()\n",
    "\n",
    "# Example: Load raw data\n",
    "loader.load_raw_data()\n",
    "\n",
    "# Further data visualization steps go here\n"
   ]
  },
  {
   "cell_type": "code",
   "execution_count": null,
   "id": "a66a7984-4a18-46c6-8edd-4219ce4eee48",
   "metadata": {},
   "outputs": [],
   "source": [
    "from legend200_data_loader.loader import LegendDataLoader\n",
    "\n",
    "# Define the path to your HDF5 files\n",
    "pet_files = [\"path/to/your/data_file.h5\"]  # List of file paths to load\n",
    "\n",
    "# Initialize the loader with your files and tier\n",
    "loader = LegendDataLoader(pet_files, tier='pet')\n",
    "\n",
    "# Load the data for the specific channel\n",
    "data = loader.load_tier_data(channel_id)\n"
   ]
  },
  {
   "cell_type": "code",
   "execution_count": null,
   "id": "cc3d059f-1dba-4cce-8f00-e9b0d75a4c33",
   "metadata": {},
   "outputs": [],
   "source": [
    "# Load Data\n",
    "loader = LegendDataLoader([\"path/to/pet_data.h5\"])\n",
    "data = loader.load_tier_data(channel_id)"
   ]
  },
  {
   "cell_type": "code",
   "execution_count": null,
   "id": "698def45-28da-4f2f-a428-7b2b60aa0977",
   "metadata": {},
   "outputs": [],
   "source": [
    "# Inspect the data\n",
    "data.head()"
   ]
  }
 ],
 "metadata": {
  "kernelspec": {
   "display_name": "NERSC Python",
   "language": "python",
   "name": "python3"
  },
  "language_info": {
   "codemirror_mode": {
    "name": "ipython",
    "version": 3
   },
   "file_extension": ".py",
   "mimetype": "text/x-python",
   "name": "python",
   "nbconvert_exporter": "python",
   "pygments_lexer": "ipython3",
   "version": "3.11.7"
  }
 },
 "nbformat": 4,
 "nbformat_minor": 5
}
