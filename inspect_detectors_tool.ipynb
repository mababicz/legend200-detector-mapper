{
 "cells": [
  {
   "cell_type": "code",
   "execution_count": 3,
   "id": "76fde73b-83cd-4416-8396-080691e71002",
   "metadata": {},
   "outputs": [],
   "source": [
    "\"\"\"\n",
    "LEGEND200 Detector Mapper Tool\n",
    "Author: Marta Babicz\n",
    "Date: January 2025\n",
    "Description:\n",
    "This script provides an interactive tool for visualizing and filtering HPGe detectors \n",
    "in the LEGEND200 experiment. Users can filter detectors based on usability (active, AC, or off),\n",
    "select specific periods and runs, and visualize detector positions in an interactive plot.\n",
    "\n",
    "Dependencies:\n",
    "- legend200_data_loader\n",
    "- legendmeta\n",
    "- ipywidgets\n",
    "- matplotlib\n",
    "\"\"\"\n",
    "\n",
    "# ======================== IMPORTS ========================\n",
    "import datetime as dt\n",
    "import awkward as ak\n",
    "import pandas as pd\n",
    "import pickle\n",
    "import re\n",
    "import h5py\n",
    "import os\n",
    "\n",
    "from legend200_data_loader.loader import LegendDataLoader\n",
    "from legend200_data_loader.preprocessing import plot_detector_positions\n",
    "from legend200_data_loader.function import filter_metadata\n",
    "from legendmeta import LegendMetadata\n",
    "from ipywidgets import interact, widgets\n",
    "from IPython.display import display"
   ]
  },
  {
   "cell_type": "code",
   "execution_count": 4,
   "id": "fadb399d-74b4-4474-a091-776cc916f41e",
   "metadata": {},
   "outputs": [],
   "source": [
    "# ======================== SSH SETUP ========================\n",
    "# Set up SSH agent for authentication (before in terminal)!\n",
    "os.environ[\"SSH_AUTH_SOCK\"] = \"/tmp/ssh-XXXXXX1U2ma8/agent.2354076\""
   ]
  },
  {
   "cell_type": "code",
   "execution_count": 5,
   "id": "14897b6a-78c0-4cca-9583-b50d5637e024",
   "metadata": {},
   "outputs": [
    {
     "name": "stdout",
     "output_type": "stream",
     "text": [
      "Found 101 HPGe detectors.\n"
     ]
    }
   ],
   "source": [
    "# ======================== LOAD METADATA ========================\n",
    "# Initialize LegendMetadata for accessing detector metadata\n",
    "lmeta = LegendMetadata()\n",
    "\n",
    "# Step 1: Metadata Filtering (e.g., 'geds')\n",
    "detector_type = 'geds'  \n",
    "detectors = filter_metadata(lmeta)\n",
    "\n",
    "\n",
    "if not detectors:\n",
    "    print(f\"No detectors found for type: {detector_type}\")\n",
    "else:\n",
    "    detector_entries = {key: value for key, value in detectors.items() if key != 'rawid_lists'}\n",
    "    print(f\"Found {len(detector_entries)} HPGe detectors.\")"
   ]
  },
  {
   "cell_type": "code",
   "execution_count": 6,
   "id": "64211c67-1198-477b-b042-3346cc6c28dc",
   "metadata": {},
   "outputs": [],
   "source": [
    "# ======================== LOAD DATA LOADER ========================\n",
    "# Initialize the LegendDataLoader for accessing files and runs\n",
    "data_loader = LegendDataLoader()"
   ]
  },
  {
   "cell_type": "code",
   "execution_count": 7,
   "id": "cf5b8f4d-b2a4-48b8-98e4-da1088e6c50f",
   "metadata": {},
   "outputs": [
    {
     "data": {
      "application/vnd.jupyter.widget-view+json": {
       "model_id": "8ff7a68406664286948ab95ed6e38507",
       "version_major": 2,
       "version_minor": 0
      },
      "text/plain": [
       "Dropdown(description='Period:', options=('p08/', 'p09/', 'p11/'), value='p08/')"
      ]
     },
     "metadata": {},
     "output_type": "display_data"
    },
    {
     "data": {
      "application/vnd.jupyter.widget-view+json": {
       "model_id": "b22e6797065f49beaf2f265597b5d7a9",
       "version_major": 2,
       "version_minor": 0
      },
      "text/plain": [
       "Dropdown(description='Run:', options=(), value=None)"
      ]
     },
     "metadata": {},
     "output_type": "display_data"
    },
    {
     "data": {
      "application/vnd.jupyter.widget-view+json": {
       "model_id": "9ef8e7f8c28b4e30bbe3d4b1df5e4af8",
       "version_major": 2,
       "version_minor": 0
      },
      "text/plain": [
       "Checkbox(value=True, description='Show Active Detectors (on)')"
      ]
     },
     "metadata": {},
     "output_type": "display_data"
    },
    {
     "data": {
      "application/vnd.jupyter.widget-view+json": {
       "model_id": "7d8c949b6d97407fbbbce72712aa6803",
       "version_major": 2,
       "version_minor": 0
      },
      "text/plain": [
       "Checkbox(value=True, description='Show AC Detectors (ac)')"
      ]
     },
     "metadata": {},
     "output_type": "display_data"
    },
    {
     "data": {
      "application/vnd.jupyter.widget-view+json": {
       "model_id": "c600d123a27f4dcfb1e52524c96cd89f",
       "version_major": 2,
       "version_minor": 0
      },
      "text/plain": [
       "Checkbox(value=False, description='Show Off Detectors (off)')"
      ]
     },
     "metadata": {},
     "output_type": "display_data"
    }
   ],
   "source": []
  },
  {
   "cell_type": "code",
   "execution_count": 9,
   "id": "70c45588-d836-49a5-9ffb-f1843d0d9ac6",
   "metadata": {},
   "outputs": [
    {
     "data": {
      "application/vnd.jupyter.widget-view+json": {
       "model_id": "e0598a9c2ea3406c8c3eb37cb8aeefbe",
       "version_major": 2,
       "version_minor": 0
      },
      "text/plain": [
       "Dropdown(description='Period:', options=('p08/', 'p09/', 'p11/'), value='p08/')"
      ]
     },
     "metadata": {},
     "output_type": "display_data"
    },
    {
     "data": {
      "application/vnd.jupyter.widget-view+json": {
       "model_id": "c199d4e335f041209eb488fec8d0bfb2",
       "version_major": 2,
       "version_minor": 0
      },
      "text/plain": [
       "Dropdown(description='Run:', options=(), value=None)"
      ]
     },
     "metadata": {},
     "output_type": "display_data"
    },
    {
     "data": {
      "application/vnd.jupyter.widget-view+json": {
       "model_id": "fc32e8c45fd34a08bbd3e62c687e5960",
       "version_major": 2,
       "version_minor": 0
      },
      "text/plain": [
       "Checkbox(value=True, description='Show Active Detectors (on)')"
      ]
     },
     "metadata": {},
     "output_type": "display_data"
    },
    {
     "data": {
      "application/vnd.jupyter.widget-view+json": {
       "model_id": "f1b0a838fd4348b299efa43debb6600a",
       "version_major": 2,
       "version_minor": 0
      },
      "text/plain": [
       "Checkbox(value=True, description='Show AC Detectors (ac)')"
      ]
     },
     "metadata": {},
     "output_type": "display_data"
    },
    {
     "data": {
      "application/vnd.jupyter.widget-view+json": {
       "model_id": "020aee6875044c4995f0ea4fd6f63c20",
       "version_major": 2,
       "version_minor": 0
      },
      "text/plain": [
       "Checkbox(value=False, description='Show Off Detectors (off)')"
      ]
     },
     "metadata": {},
     "output_type": "display_data"
    },
    {
     "data": {
      "application/vnd.jupyter.widget-view+json": {
       "model_id": "b378881f4d3248a781465efb207cb9e2",
       "version_major": 2,
       "version_minor": 0
      },
      "text/plain": [
       "Checkbox(value=False, description='Save Plot')"
      ]
     },
     "metadata": {},
     "output_type": "display_data"
    },
    {
     "data": {
      "application/vnd.jupyter.widget-view+json": {
       "model_id": "ecc9b2ddab3c459dbd2ff56b31aa6585",
       "version_major": 2,
       "version_minor": 0
      },
      "text/plain": [
       "Text(value='/global/u2/m/mababicz/l200-detector-mapper/detector_plot.png', description='Save Path:', placehold…"
      ]
     },
     "metadata": {},
     "output_type": "display_data"
    },
    {
     "data": {
      "application/vnd.jupyter.widget-view+json": {
       "model_id": "6e406b38227c46848e204f9a4cd5afc7",
       "version_major": 2,
       "version_minor": 0
      },
      "text/plain": [
       "interactive(children=(Dropdown(description='Period:', options=('p08/', 'p09/', 'p11/'), value='p08/'), Dropdow…"
      ]
     },
     "metadata": {},
     "output_type": "display_data"
    },
    {
     "data": {
      "text/plain": [
       "<function __main__.update_plot(period, run, active, ac, off, save_plot, save_path)>"
      ]
     },
     "execution_count": 9,
     "metadata": {},
     "output_type": "execute_result"
    }
   ],
   "source": [
    "# ======================== INTERACTIVE WIDGETS ========================\n",
    "#Dropdown for selecting periods\n",
    "available_periods = ['p08/', 'p09/', 'p11/']  # Replace with actual periods\n",
    "period_dropdown = widgets.Dropdown(\n",
    "    options=available_periods,\n",
    "    value=available_periods[0],\n",
    "    description='Period:'\n",
    ")\n",
    "\n",
    "#Dropdown for selecting runs\n",
    "run_dropdown = widgets.Dropdown(\n",
    "    options=[],  # Updated dynamically based on selected period\n",
    "    description='Run:'\n",
    ")\n",
    "\n",
    "\n",
    "show_active = widgets.Checkbox(value=True, description='Show Active Detectors (on)')\n",
    "show_ac = widgets.Checkbox(value=True, description='Show AC Detectors (ac)')\n",
    "show_off = widgets.Checkbox(value=False, description='Show Off Detectors (off)')\n",
    "\n",
    "# Display widgets\n",
    "display(period_dropdown, run_dropdown, show_active, show_ac, show_off)\n",
    "\n",
    "# ======================== UPDATE FUNCTIONS ========================\n",
    "# Function to update runs based on the selected period\n",
    "def update_runs(period):\n",
    "    runs = data_loader.get_runs(period)\n",
    "    run_dropdown.options = runs\n",
    "    if runs:\n",
    "        run_dropdown.value = runs[0]\n",
    "\n",
    "# Observe changes in the period dropdown and update runs dynamically\n",
    "period_dropdown.observe(lambda change: update_runs(change.new), names='value')\n",
    "update_runs(period_dropdown.value)\n",
    "\n",
    "# ======================== SAVE PLOT OPTIONS ========================\n",
    "#You can checkbox and text box for saving plots\n",
    "save_plot_checkbox = widgets.Checkbox(value=False, description='Save Plot')\n",
    "save_path_text = widgets.Text(\n",
    "    value='/global/u2/m/mababicz/l200-detector-mapper/detector_plot.png', #but change the path!\n",
    "    placeholder='Enter save path',\n",
    "    description='Save Path:'\n",
    ")\n",
    "\n",
    "# Display save options widgets\n",
    "display(save_plot_checkbox, save_path_text)\n",
    "\n",
    "# ======================== PLOT FUNCTION ========================\n",
    "\n",
    "def update_plot(period, run, active, ac, off, save_plot, save_path):\n",
    "    \"\"\"\n",
    "    Update and visualize detector positions based on user inputs.\n",
    "    \"\"\"\n",
    "    #Load files for the selected period and run\n",
    "    file_dict = data_loader.load_files(period, run)\n",
    "    tier_to_check = 'raw_files'\n",
    "\n",
    "    \n",
    "    timestamps = []\n",
    "    for file_path in file_dict.get(tier_to_check, []):\n",
    "        filename = os.path.basename(file_path)\n",
    "        match = re.search(r'\\d{8}T\\d{6}Z', filename)\n",
    "        if match:\n",
    "            timestamps.append(match.group())\n",
    "\n",
    "    if not timestamps:\n",
    "        print(f\"No valid timestamps found in {tier_to_check} files.\")\n",
    "        return\n",
    "\n",
    "    \n",
    "    timestamp = timestamps[0]\n",
    "    channel_map = lmeta.channelmap(timestamp)\n",
    "\n",
    "    \n",
    "    usable_detectors, ac_detectors, off_detectors = [], [], []\n",
    "    for det_id in detectors:\n",
    "        detector_info = channel_map.get(det_id, {})\n",
    "        analysis_info = detector_info.get('analysis', {})\n",
    "        usability = analysis_info.get('usability', 'unknown')\n",
    "\n",
    "        if usability == 'on' and active:\n",
    "            usable_detectors.append(det_id)\n",
    "        elif usability == 'ac' and ac:\n",
    "            ac_detectors.append(det_id)\n",
    "        elif usability == 'off' and off:\n",
    "            off_detectors.append(det_id)\n",
    "\n",
    "   \n",
    "    save_path_actual = save_path if save_plot else None\n",
    "    plot_detector_positions(\n",
    "        usable_detectors,\n",
    "        lmeta,\n",
    "        period,\n",
    "        run,\n",
    "        ac_detectors=ac_detectors,\n",
    "        off_detectors=off_detectors,\n",
    "    )\n",
    "    if save_plot:\n",
    "        print(f\"Plot saved to {save_path}\")\n",
    "\n",
    "# ======================== INTERACTIVE PLOT ========================\n",
    "\n",
    "interact(\n",
    "    update_plot,\n",
    "    period=period_dropdown,\n",
    "    run=run_dropdown,\n",
    "    active=show_active,\n",
    "    ac=show_ac,\n",
    "    off=show_off,\n",
    "    save_plot=save_plot_checkbox,\n",
    "    save_path=save_path_text\n",
    ")\n"
   ]
  },
  {
   "cell_type": "code",
   "execution_count": null,
   "id": "0be89fb5-2c21-4dfb-8c6d-6b1d3847c918",
   "metadata": {},
   "outputs": [],
   "source": []
  }
 ],
 "metadata": {
  "kernelspec": {
   "display_name": "NERSC Python",
   "language": "python",
   "name": "python3"
  },
  "language_info": {
   "codemirror_mode": {
    "name": "ipython",
    "version": 3
   },
   "file_extension": ".py",
   "mimetype": "text/x-python",
   "name": "python",
   "nbconvert_exporter": "python",
   "pygments_lexer": "ipython3",
   "version": "3.11.7"
  }
 },
 "nbformat": 4,
 "nbformat_minor": 5
}
