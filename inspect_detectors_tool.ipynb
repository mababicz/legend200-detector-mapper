{
 "cells": [
  {
   "cell_type": "code",
   "execution_count": 4,
   "id": "7302ff67-5701-48b3-af77-018d58f7ee64",
   "metadata": {
    "tags": []
   },
   "outputs": [
    {
     "name": "stdout",
     "output_type": "stream",
     "text": [
      "Found 101 HPGE detectors.\n"
     ]
    },
    {
     "data": {
      "application/vnd.jupyter.widget-view+json": {
       "model_id": "01324a616b5748d6baad440f4e28868c",
       "version_major": 2,
       "version_minor": 0
      },
      "text/plain": [
       "Dropdown(description='Period:', options=('p08/', 'p09/', 'p11/'), value='p08/')"
      ]
     },
     "metadata": {},
     "output_type": "display_data"
    },
    {
     "data": {
      "application/vnd.jupyter.widget-view+json": {
       "model_id": "c4601a7127034f038be7c54eec2f6bde",
       "version_major": 2,
       "version_minor": 0
      },
      "text/plain": [
       "Dropdown(description='Run:', options=(), value=None)"
      ]
     },
     "metadata": {},
     "output_type": "display_data"
    },
    {
     "data": {
      "application/vnd.jupyter.widget-view+json": {
       "model_id": "e7d5b0257c184ce2ad11183626d35fae",
       "version_major": 2,
       "version_minor": 0
      },
      "text/plain": [
       "Checkbox(value=True, description='Show Active Detectors (on)')"
      ]
     },
     "metadata": {},
     "output_type": "display_data"
    },
    {
     "data": {
      "application/vnd.jupyter.widget-view+json": {
       "model_id": "1aee112796fb437391ecd5e717c1c269",
       "version_major": 2,
       "version_minor": 0
      },
      "text/plain": [
       "Checkbox(value=True, description='Show AC Detectors (ac)')"
      ]
     },
     "metadata": {},
     "output_type": "display_data"
    },
    {
     "data": {
      "application/vnd.jupyter.widget-view+json": {
       "model_id": "eba8fcbd8b2b48b89b2a1077a1a56b11",
       "version_major": 2,
       "version_minor": 0
      },
      "text/plain": [
       "Checkbox(value=False, description='Show Off Detectors (off)')"
      ]
     },
     "metadata": {},
     "output_type": "display_data"
    },
    {
     "data": {
      "application/vnd.jupyter.widget-view+json": {
       "model_id": "dae0525d3769474fa88b36e790100017",
       "version_major": 2,
       "version_minor": 0
      },
      "text/plain": [
       "Checkbox(value=False, description='Save Plot')"
      ]
     },
     "metadata": {},
     "output_type": "display_data"
    },
    {
     "data": {
      "application/vnd.jupyter.widget-view+json": {
       "model_id": "a03db1aa90ef43fc9ae118dec62955de",
       "version_major": 2,
       "version_minor": 0
      },
      "text/plain": [
       "Text(value='/global/u2/m/mababicz/l200-detector-mapper/detector_plot.png', description='Save Path:', placehold…"
      ]
     },
     "metadata": {},
     "output_type": "display_data"
    },
    {
     "data": {
      "application/vnd.jupyter.widget-view+json": {
       "model_id": "6fd636e6aaa540cf9a0c9214965fb49e",
       "version_major": 2,
       "version_minor": 0
      },
      "text/plain": [
       "interactive(children=(Dropdown(description='Period:', options=('p08/', 'p09/', 'p11/'), value='p08/'), Dropdow…"
      ]
     },
     "metadata": {},
     "output_type": "display_data"
    },
    {
     "data": {
      "text/plain": [
       "<function __main__.update_plot(period, run, active, ac, off, save_plot, save_path)>"
      ]
     },
     "execution_count": 4,
     "metadata": {},
     "output_type": "execute_result"
    }
   ],
   "source": [
    "import datetime as dt\n",
    "import awkward as ak\n",
    "import pandas as pd\n",
    "import pickle\n",
    "import glob\n",
    "import re\n",
    "import h5py\n",
    "import os\n",
    "\n",
    "from legend200_data_loader.loader import LegendDataLoader\n",
    "from legend200_data_loader.preprocessing import plot_detector_positions\n",
    "from legend200_data_loader.function import filter_metadata\n",
    "from legendmeta import LegendMetadata\n",
    "from ipywidgets import interact, widgets\n",
    "from IPython.display import display\n",
    "\n",
    "#Set up SSH agent for authentication\n",
    "os.environ[\"SSH_AUTH_SOCK\"] = \"/tmp/ssh-iAEKGnlYMZzZ/agent.822893\"\n",
    "\n",
    "#Load metadata\n",
    "lmeta = LegendMetadata()\n",
    "\n",
    "#Step 1: Metadata Filtering\n",
    "detector_type = 'geds'  # Example: detector type to filter\n",
    "detectors = filter_metadata(lmeta)\n",
    "if not detectors:\n",
    "    print(f\"No detectors found for type: {detector_type}\")\n",
    "else:\n",
    "    detector_entries = {key: value for key, value in detectors.items() if key != 'rawid_lists'}\n",
    "    print(f\"Found {len(detector_entries)} HPGE detectors.\")\n",
    "\n",
    "#Load data loader\n",
    "data_loader = LegendDataLoader()\n",
    "\n",
    "#Widget for selecting period\n",
    "available_periods = ['p08/', 'p09/', 'p11/']  # Example list; replace with actual periods\n",
    "period_dropdown = widgets.Dropdown(\n",
    "    options=available_periods,\n",
    "    value=available_periods[0],\n",
    "    description='Period:'\n",
    ")\n",
    "\n",
    "#Widget for selecting run\n",
    "run_dropdown = widgets.Dropdown(\n",
    "    options=[],  # Updated dynamically based on period\n",
    "    description='Run:'\n",
    ")\n",
    "\n",
    "#Filter options for detector usability\n",
    "show_active = widgets.Checkbox(value=True, description='Show Active Detectors (on)')\n",
    "show_ac = widgets.Checkbox(value=True, description='Show AC Detectors (ac)')\n",
    "show_off = widgets.Checkbox(value=False, description='Show Off Detectors (off)')\n",
    "\n",
    "#Display widgets\n",
    "display(period_dropdown, run_dropdown, show_active, show_ac, show_off)\n",
    "\n",
    "#Update runs based on the selected period\n",
    "def update_runs(period):\n",
    "    runs = data_loader.get_runs(period)\n",
    "    run_dropdown.options = runs\n",
    "    if runs:\n",
    "        run_dropdown.value = runs[0]\n",
    "\n",
    "#Update runs dropdown when period changes\n",
    "period_dropdown.observe(lambda change: update_runs(change.new), names='value')\n",
    "update_runs(period_dropdown.value)\n",
    "\n",
    "save_plot_checkbox = widgets.Checkbox(value=False, description='Save Plot')\n",
    "save_path_text = widgets.Text(\n",
    "    value='/global/u2/m/mababicz/l200-detector-mapper/detector_plot.png',\n",
    "    placeholder='Enter save path',\n",
    "    description='Save Path:'\n",
    ")\n",
    "\n",
    "# Display the widgets for saving options\n",
    "display(save_plot_checkbox, save_path_text)\n",
    "\n",
    "#Function to update and plot detector positions\n",
    "def update_plot(period, run, active, ac, off, save_plot, save_path):\n",
    "    # Load files for selected period and run\n",
    "    file_dict = data_loader.load_files(period, run)\n",
    "    tier_to_check = 'raw_files'\n",
    "    \n",
    "    #Extract timestamps\n",
    "    timestamps = []\n",
    "    for file_path in file_dict.get(tier_to_check, []):\n",
    "        filename = os.path.basename(file_path)\n",
    "        match = re.search(r'\\d{8}T\\d{6}Z', filename)\n",
    "        if match:\n",
    "            timestamps.append(match.group())\n",
    "    \n",
    "    if not timestamps:\n",
    "        print(f\"No valid timestamps found in {tier_to_check} files.\")\n",
    "        return\n",
    "    \n",
    "    timestamp = timestamps[0]\n",
    "    channel_map = lmeta.channelmap(timestamp)\n",
    "    usable_detectors, ac_detectors, off_detectors = [], [], []\n",
    "    \n",
    "    for det_id in detectors:\n",
    "        detector_info = channel_map.get(det_id, {})\n",
    "        analysis_info = detector_info.get('analysis', {})\n",
    "        usability = analysis_info.get('usability', 'unknown')\n",
    "        \n",
    "        if usability == 'on' and active:\n",
    "            usable_detectors.append(det_id)\n",
    "        elif usability == 'ac' and ac:\n",
    "            ac_detectors.append(det_id)\n",
    "        elif usability == 'off' and off:\n",
    "            off_detectors.append(det_id)\n",
    "    \n",
    "    #Plot filtered detectors\n",
    "    save_path_actual = save_path if save_plot else None\n",
    "    plot_detector_positions(\n",
    "        usable_detectors, \n",
    "        lmeta, \n",
    "        period, \n",
    "        run, \n",
    "        ac_detectors=ac_detectors, \n",
    "        off_detectors=off_detectors,\n",
    "        #save_path=save_path_actual\n",
    "    )\n",
    "    if save_plot:\n",
    "        print(f\"Plot saved to {save_path}\")\n",
    "\n",
    "#Link widgets to the plot function\n",
    "interact(\n",
    "    update_plot,\n",
    "    period=period_dropdown,\n",
    "    run=run_dropdown,\n",
    "    active=show_active,\n",
    "    ac=show_ac,\n",
    "    off=show_off,\n",
    "    save_plot=save_plot_checkbox,\n",
    "    save_path=save_path_text\n",
    ")\n"
   ]
  },
  {
   "cell_type": "code",
   "execution_count": 2,
   "id": "da46da51-4f99-40c9-8929-3ff12ac9b8c4",
   "metadata": {},
   "outputs": [
    {
     "name": "stdout",
     "output_type": "stream",
     "text": [
      "legend200_data_loader.preprocessing\n"
     ]
    }
   ],
   "source": [
    "print(plot_detector_positions.__module__)\n"
   ]
  },
  {
   "cell_type": "code",
   "execution_count": null,
   "id": "0be89fb5-2c21-4dfb-8c6d-6b1d3847c918",
   "metadata": {},
   "outputs": [],
   "source": []
  }
 ],
 "metadata": {
  "kernelspec": {
   "display_name": "NERSC Python",
   "language": "python",
   "name": "python3"
  },
  "language_info": {
   "codemirror_mode": {
    "name": "ipython",
    "version": 3
   },
   "file_extension": ".py",
   "mimetype": "text/x-python",
   "name": "python",
   "nbconvert_exporter": "python",
   "pygments_lexer": "ipython3",
   "version": "3.11.7"
  }
 },
 "nbformat": 4,
 "nbformat_minor": 5
}
